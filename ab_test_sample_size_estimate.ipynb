{
 "cells": [
  {
   "cell_type": "markdown",
   "metadata": {
    "cell_id": 1
   },
   "source": [
    "## 人均营收 ab test 样本测算"
   ]
  },
  {
   "cell_type": "code",
   "execution_count": 4,
   "metadata": {
    "cell_id": 2
   },
   "outputs": [],
   "source": [
    "# --------------- SEP ---------------\n",
    "price_power_analysis <- \n",
    "    function(prices, conversion_rates, mean_lift, sig_level = .1, power = .8) {\n",
    "    # monte carlo settings\n",
    "    SAMPLE_SIZE = 100000\n",
    "    price_vector = c(0, prices)\n",
    "    conversion_vector = c(1 - sum(conversion_rates), conversion_rates)\n",
    "    # simulate sales for a population\n",
    "    sales_vector = sample(price_vector, SAMPLE_SIZE, replace=TRUE, prob=conversion_vector)\n",
    "\n",
    "    # assumed mean and standard deviation\n",
    "    sample_mean = mean(sales_vector)\n",
    "    sample_sd = sd(sales_vector)\n",
    "    cat(\"营收平均值:\", sample_mean, '\\n')\n",
    "    cat(\"营收标准差:\", sample_sd, '\\n')\n",
    "    cat(rep('-', 20), '\\n')\n",
    "\n",
    "    # d: cohen's D\n",
    "    power.t.test(d = mean_lift/sample_sd, sig.level = sig_level, power = power, alternative = \"one.sided\")\n",
    "}"
   ]
  },
  {
   "cell_type": "code",
   "execution_count": 22,
   "metadata": {
    "cell_id": 3,
    "scrolled": true
   },
   "outputs": [
    {
     "name": "stdout",
     "output_type": "stream",
     "text": [
      "营收平均值: 114.5284 \n",
      "营收标准差: 359.9722 \n",
      "- - - - - - - - - - - - - - - - - - - - \n"
     ]
    },
    {
     "data": {
      "text/plain": [
       "\n",
       "     Two-sample t test power calculation \n",
       "\n",
       "              n = 46730.72\n",
       "          delta = 0.01388996\n",
       "             sd = 1\n",
       "      sig.level = 0.1\n",
       "          power = 0.8\n",
       "    alternative = one.sided\n",
       "\n",
       "NOTE: n is number in *each* group\n"
      ]
     },
     "metadata": {},
     "output_type": "display_data"
    }
   ],
   "source": [
    "price_power_analysis(c(898, 2499), c(0.10, 0.01), 5)"
   ]
  },
  {
   "cell_type": "markdown",
   "metadata": {
    "cell_id": 4
   },
   "source": [
    "## 转化率 ab test 样本测算"
   ]
  },
  {
   "cell_type": "code",
   "execution_count": 2,
   "metadata": {
    "cell_id": 5
   },
   "outputs": [
    {
     "data": {
      "text/plain": [
       "\n",
       "     Two-sample comparison of proportions power calculation \n",
       "\n",
       "              n = 6078.152\n",
       "             p1 = 0.085\n",
       "             p2 = 0.09605\n",
       "      sig.level = 0.1\n",
       "          power = 0.8\n",
       "    alternative = one.sided\n",
       "\n",
       "NOTE: n is number in *each* group\n"
      ]
     },
     "metadata": {},
     "output_type": "display_data"
    }
   ],
   "source": [
    "baseline = 0.085\n",
    "relative_mde = 0.13\n",
    "power.prop.test(p1 = baseline, p2 = baseline * (1 + relative_mde), sig.level = 0.1, power = 0.8, alternative = 'one.sided')"
   ]
  },
  {
   "cell_type": "code",
   "execution_count": 6,
   "metadata": {
    "cell_id": 6
   },
   "outputs": [
    {
     "data": {
      "text/plain": [
       "\n",
       "     Two-sample comparison of proportions power calculation \n",
       "\n",
       "              n = 3362.723\n",
       "             p1 = 0.085\n",
       "             p2 = 0.1\n",
       "      sig.level = 0.1\n",
       "          power = 0.8\n",
       "    alternative = one.sided\n",
       "\n",
       "NOTE: n is number in *each* group\n"
      ]
     },
     "metadata": {},
     "output_type": "display_data"
    }
   ],
   "source": [
    "baseline = 0.085\n",
    "abs_mde = 0.015\n",
    "power.prop.test(p1 = baseline, p2 = baseline + abs_mde, sig.level = 0.1, power = 0.8, alternative = 'one.sided')"
   ]
  },
  {
   "cell_type": "code",
   "execution_count": 170,
   "metadata": {
    "cell_id": 7
   },
   "outputs": [
    {
     "data": {
      "text/plain": [
       "\n",
       "\t2-sample test for equality of proportions with continuity correction\n",
       "\n",
       "data:  c(0.5582 * 200, 0.4565 * 2000) out of c(200, 2000)\n",
       "X-squared = 7.1544, df = 1, p-value = 0.007478\n",
       "alternative hypothesis: two.sided\n",
       "95 percent confidence interval:\n",
       " 0.02674673 0.17665327\n",
       "sample estimates:\n",
       "prop 1 prop 2 \n",
       "0.5582 0.4565 \n"
      ]
     },
     "metadata": {},
     "output_type": "display_data"
    }
   ],
   "source": [
    "prop.test(x = c(.5582 * 200, .4565 * 2000), n = c(200, 2000), alternative = \"two.sided\")"
   ]
  },
  {
   "cell_type": "markdown",
   "metadata": {
    "cell_id": 8
   },
   "source": [
    "## t test"
   ]
  },
  {
   "cell_type": "code",
   "execution_count": 127,
   "metadata": {
    "cell_id": 9
   },
   "outputs": [],
   "source": [
    "require(dplyr)\n",
    "require(readxl)\n",
    "require(ggplot2)\n",
    "\n",
    "options(repr.plot.width=12, repr.plot.height=6)\n",
    "\n",
    "# helpers\n",
    "save_png = function(plt, dir = \"./\",width = 1800,height = 800, res = 220) {\n",
    "  path = paste0(dir,deparse(substitute(plt)),\".png\")\n",
    "  message(path)\n",
    "  png(path, width = width, height = height, res = res)\n",
    "  plot(plt)\n",
    "  dev.off()\n",
    "}"
   ]
  },
  {
   "cell_type": "code",
   "execution_count": 147,
   "metadata": {
    "cell_id": 10
   },
   "outputs": [],
   "source": [
    "df_ab = readr::read_csv(\n",
    "    './input/ez_eo_直投_营收记录_20200901_20200915.csv', \n",
    "    col_types = cols(.default = \"?\", revenue_d25 = \"i\", year_revenue_d25 = \"i\", hiarpu_revenue_d25 = \"i\"),\n",
    "    na = 'NULL',\n",
    "    locale = readr::locale(encoding = \"GBK\"),\n",
    ") %>% mutate(\n",
    "    zt_first_real_price = zt_first_real_price / 100,\n",
    "    year_revenue_d25 = year_revenue_d25 / 100,\n",
    "    hiarpu_revenue_d25 = hiarpu_revenue_d25/ 100,\n",
    "    total_revenue = zt_first_real_price + year_revenue_d25 + hiarpu_revenue_d25,\n",
    "    proficient_level_name = ifelse(is.na(proficient_level_name), '未测试', proficient_level_name)\n",
    ")"
   ]
  },
  {
   "cell_type": "code",
   "execution_count": 164,
   "metadata": {
    "cell_id": 11
   },
   "outputs": [
    {
     "name": "stderr",
     "output_type": "stream",
     "text": [
      "./plot_d0_in_group_rate_eo_vs_ez.png\n",
      "\n"
     ]
    },
    {
     "data": {
      "text/html": [
       "<strong>png:</strong> 2"
      ],
      "text/latex": [
       "\\textbf{png:} 2"
      ],
      "text/markdown": [
       "**png:** 2"
      ],
      "text/plain": [
       "png \n",
       "  2 "
      ]
     },
     "metadata": {},
     "output_type": "display_data"
    }
   ],
   "source": [
    "# 入群率\n",
    "plot_d0_in_group_rate_eo_vs_ez = df_ab %>% group_by(activation_date, app_name) %>%\n",
    "    summarise(\n",
    "        users = n(),\n",
    "        ratio_in_group = sum(in_group)/n(),\n",
    "        total_revenue = mean(total_revenue, na.rm = T),\n",
    "        year_revenue_d25 = mean(year_revenue_d25, na.rm = T),\n",
    "        hiarpu_revenue_d25 = mean(hiarpu_revenue_d25, na.rm = T),\n",
    "        .groups = 'drop',\n",
    "    ) %>% ggplot(aes(x = activation_date, y = ratio_in_group, color = app_name)) +\n",
    "    geom_line() +\n",
    "    ylim(0, 1) +\n",
    "    labs(title = '直投用户 D0 入群率 EO vs. EZ', subtitle = '20200901~0918', y = '')\n",
    "\n",
    "save_png(plot_d0_in_group_rate_eo_vs_ez, res = 180)"
   ]
  },
  {
   "cell_type": "code",
   "execution_count": 165,
   "metadata": {
    "cell_id": 12
   },
   "outputs": [
    {
     "name": "stderr",
     "output_type": "stream",
     "text": [
      "./plot_d0_in_group_rate_eo_vs_ez_by_level.png\n",
      "\n"
     ]
    },
    {
     "data": {
      "text/html": [
       "<strong>png:</strong> 2"
      ],
      "text/latex": [
       "\\textbf{png:} 2"
      ],
      "text/markdown": [
       "**png:** 2"
      ],
      "text/plain": [
       "png \n",
       "  2 "
      ]
     },
     "metadata": {},
     "output_type": "display_data"
    }
   ],
   "source": [
    "# 入群率，按等级\n",
    "plot_d0_in_group_rate_eo_vs_ez_by_level = df_ab %>% group_by(activation_date, app_name, proficient_level_name) %>%\n",
    "    summarise(\n",
    "        users = n(),\n",
    "        ratio_in_group = sum(in_group)/n(),\n",
    "        total_revenue = mean(total_revenue, na.rm = T),\n",
    "        year_revenue_d25 = mean(year_revenue_d25, na.rm = T),\n",
    "        hiarpu_revenue_d25 = mean(hiarpu_revenue_d25, na.rm = T),\n",
    "        .groups = 'drop',\n",
    "    ) %>% ggplot(aes(x = activation_date, y = ratio_in_group, color = app_name)) +\n",
    "    geom_line() +\n",
    "    facet_wrap(proficient_level_name~.) +\n",
    "    labs(title = '按等级直投用户 D0 入群率 EO vs. EZ', subtitle = '20200901~0918', y = '')\n",
    "\n",
    "save_png(plot_d0_in_group_rate_eo_vs_ez_by_level, res = 180)"
   ]
  },
  {
   "cell_type": "code",
   "execution_count": 168,
   "metadata": {
    "cell_id": 13
   },
   "outputs": [
    {
     "data": {
      "text/html": [
       "<table>\n",
       "<caption>A tibble: 16 × 7</caption>\n",
       "<thead>\n",
       "\t<tr><th scope=col>app_name</th><th scope=col>proficient_level_name</th><th scope=col>users</th><th scope=col>ratio_in_group</th><th scope=col>total_revenue</th><th scope=col>year_revenue_d25</th><th scope=col>hiarpu_revenue_d25</th></tr>\n",
       "\t<tr><th scope=col>&lt;chr&gt;</th><th scope=col>&lt;chr&gt;</th><th scope=col>&lt;int&gt;</th><th scope=col>&lt;dbl&gt;</th><th scope=col>&lt;dbl&gt;</th><th scope=col>&lt;dbl&gt;</th><th scope=col>&lt;dbl&gt;</th></tr>\n",
       "</thead>\n",
       "<tbody>\n",
       "\t<tr><td>eo</td><td>A1    </td><td> 780</td><td>0.8961538</td><td>220.11026</td><td> 85.771795</td><td>115.338462</td></tr>\n",
       "\t<tr><td>eo</td><td>A2    </td><td> 645</td><td>0.9162791</td><td>229.58295</td><td>102.099225</td><td>108.483721</td></tr>\n",
       "\t<tr><td>eo</td><td>B1    </td><td> 664</td><td>0.9337349</td><td>312.09488</td><td>130.509036</td><td>162.585843</td></tr>\n",
       "\t<tr><td>eo</td><td>B2    </td><td> 269</td><td>0.7249071</td><td> 82.14126</td><td> 16.691450</td><td> 46.449814</td></tr>\n",
       "\t<tr><td>eo</td><td>C1    </td><td>  53</td><td>0.7169811</td><td> 19.00000</td><td>  0.000000</td><td>  0.000000</td></tr>\n",
       "\t<tr><td>eo</td><td>C2    </td><td>   5</td><td>0.2000000</td><td> 19.00000</td><td>  0.000000</td><td>  0.000000</td></tr>\n",
       "\t<tr><td>eo</td><td>未测试</td><td> 705</td><td>0.2269504</td><td> 23.81844</td><td>  1.273759</td><td>  3.544681</td></tr>\n",
       "\t<tr><td>ez</td><td>A0-   </td><td> 234</td><td>0.8931624</td><td>175.09402</td><td> 49.170940</td><td>106.794872</td></tr>\n",
       "\t<tr><td>ez</td><td>A0+   </td><td>  85</td><td>0.9647059</td><td>138.64706</td><td>119.647059</td><td>  0.000000</td></tr>\n",
       "\t<tr><td>ez</td><td>A1    </td><td> 910</td><td>0.9241758</td><td>203.69890</td><td> 80.312088</td><td>104.353846</td></tr>\n",
       "\t<tr><td>ez</td><td>A2    </td><td>1292</td><td>0.9226006</td><td>194.38622</td><td> 76.354489</td><td> 99.031734</td></tr>\n",
       "\t<tr><td>ez</td><td>B1    </td><td>1286</td><td>0.9455677</td><td>219.58165</td><td>103.396579</td><td> 97.161742</td></tr>\n",
       "\t<tr><td>ez</td><td>B2    </td><td> 827</td><td>0.9600967</td><td>208.90073</td><td> 99.138015</td><td> 90.762712</td></tr>\n",
       "\t<tr><td>ez</td><td>C1    </td><td> 131</td><td>0.9541985</td><td>184.95420</td><td>127.801527</td><td> 38.152672</td></tr>\n",
       "\t<tr><td>ez</td><td>C2    </td><td>  20</td><td>1.0000000</td><td> 85.80000</td><td> 66.800000</td><td>  0.000000</td></tr>\n",
       "\t<tr><td>ez</td><td>未测试</td><td> 605</td><td>0.2330579</td><td> 21.26159</td><td>  2.211921</td><td>  0.000000</td></tr>\n",
       "</tbody>\n",
       "</table>\n"
      ],
      "text/latex": [
       "A tibble: 16 × 7\n",
       "\\begin{tabular}{lllllll}\n",
       " app\\_name & proficient\\_level\\_name & users & ratio\\_in\\_group & total\\_revenue & year\\_revenue\\_d25 & hiarpu\\_revenue\\_d25\\\\\n",
       " <chr> & <chr> & <int> & <dbl> & <dbl> & <dbl> & <dbl>\\\\\n",
       "\\hline\n",
       "\t eo & A1     &  780 & 0.8961538 & 220.11026 &  85.771795 & 115.338462\\\\\n",
       "\t eo & A2     &  645 & 0.9162791 & 229.58295 & 102.099225 & 108.483721\\\\\n",
       "\t eo & B1     &  664 & 0.9337349 & 312.09488 & 130.509036 & 162.585843\\\\\n",
       "\t eo & B2     &  269 & 0.7249071 &  82.14126 &  16.691450 &  46.449814\\\\\n",
       "\t eo & C1     &   53 & 0.7169811 &  19.00000 &   0.000000 &   0.000000\\\\\n",
       "\t eo & C2     &    5 & 0.2000000 &  19.00000 &   0.000000 &   0.000000\\\\\n",
       "\t eo & 未测试 &  705 & 0.2269504 &  23.81844 &   1.273759 &   3.544681\\\\\n",
       "\t ez & A0-    &  234 & 0.8931624 & 175.09402 &  49.170940 & 106.794872\\\\\n",
       "\t ez & A0+    &   85 & 0.9647059 & 138.64706 & 119.647059 &   0.000000\\\\\n",
       "\t ez & A1     &  910 & 0.9241758 & 203.69890 &  80.312088 & 104.353846\\\\\n",
       "\t ez & A2     & 1292 & 0.9226006 & 194.38622 &  76.354489 &  99.031734\\\\\n",
       "\t ez & B1     & 1286 & 0.9455677 & 219.58165 & 103.396579 &  97.161742\\\\\n",
       "\t ez & B2     &  827 & 0.9600967 & 208.90073 &  99.138015 &  90.762712\\\\\n",
       "\t ez & C1     &  131 & 0.9541985 & 184.95420 & 127.801527 &  38.152672\\\\\n",
       "\t ez & C2     &   20 & 1.0000000 &  85.80000 &  66.800000 &   0.000000\\\\\n",
       "\t ez & 未测试 &  605 & 0.2330579 &  21.26159 &   2.211921 &   0.000000\\\\\n",
       "\\end{tabular}\n"
      ],
      "text/markdown": [
       "\n",
       "A tibble: 16 × 7\n",
       "\n",
       "| app_name &lt;chr&gt; | proficient_level_name &lt;chr&gt; | users &lt;int&gt; | ratio_in_group &lt;dbl&gt; | total_revenue &lt;dbl&gt; | year_revenue_d25 &lt;dbl&gt; | hiarpu_revenue_d25 &lt;dbl&gt; |\n",
       "|---|---|---|---|---|---|---|\n",
       "| eo | A1     |  780 | 0.8961538 | 220.11026 |  85.771795 | 115.338462 |\n",
       "| eo | A2     |  645 | 0.9162791 | 229.58295 | 102.099225 | 108.483721 |\n",
       "| eo | B1     |  664 | 0.9337349 | 312.09488 | 130.509036 | 162.585843 |\n",
       "| eo | B2     |  269 | 0.7249071 |  82.14126 |  16.691450 |  46.449814 |\n",
       "| eo | C1     |   53 | 0.7169811 |  19.00000 |   0.000000 |   0.000000 |\n",
       "| eo | C2     |    5 | 0.2000000 |  19.00000 |   0.000000 |   0.000000 |\n",
       "| eo | 未测试 |  705 | 0.2269504 |  23.81844 |   1.273759 |   3.544681 |\n",
       "| ez | A0-    |  234 | 0.8931624 | 175.09402 |  49.170940 | 106.794872 |\n",
       "| ez | A0+    |   85 | 0.9647059 | 138.64706 | 119.647059 |   0.000000 |\n",
       "| ez | A1     |  910 | 0.9241758 | 203.69890 |  80.312088 | 104.353846 |\n",
       "| ez | A2     | 1292 | 0.9226006 | 194.38622 |  76.354489 |  99.031734 |\n",
       "| ez | B1     | 1286 | 0.9455677 | 219.58165 | 103.396579 |  97.161742 |\n",
       "| ez | B2     |  827 | 0.9600967 | 208.90073 |  99.138015 |  90.762712 |\n",
       "| ez | C1     |  131 | 0.9541985 | 184.95420 | 127.801527 |  38.152672 |\n",
       "| ez | C2     |   20 | 1.0000000 |  85.80000 |  66.800000 |   0.000000 |\n",
       "| ez | 未测试 |  605 | 0.2330579 |  21.26159 |   2.211921 |   0.000000 |\n",
       "\n"
      ],
      "text/plain": [
       "   app_name proficient_level_name users ratio_in_group total_revenue\n",
       "1  eo       A1                     780  0.8961538      220.11026    \n",
       "2  eo       A2                     645  0.9162791      229.58295    \n",
       "3  eo       B1                     664  0.9337349      312.09488    \n",
       "4  eo       B2                     269  0.7249071       82.14126    \n",
       "5  eo       C1                      53  0.7169811       19.00000    \n",
       "6  eo       C2                       5  0.2000000       19.00000    \n",
       "7  eo       未测试                 705  0.2269504       23.81844    \n",
       "8  ez       A0-                    234  0.8931624      175.09402    \n",
       "9  ez       A0+                     85  0.9647059      138.64706    \n",
       "10 ez       A1                     910  0.9241758      203.69890    \n",
       "11 ez       A2                    1292  0.9226006      194.38622    \n",
       "12 ez       B1                    1286  0.9455677      219.58165    \n",
       "13 ez       B2                     827  0.9600967      208.90073    \n",
       "14 ez       C1                     131  0.9541985      184.95420    \n",
       "15 ez       C2                      20  1.0000000       85.80000    \n",
       "16 ez       未测试                 605  0.2330579       21.26159    \n",
       "   year_revenue_d25 hiarpu_revenue_d25\n",
       "1   85.771795       115.338462        \n",
       "2  102.099225       108.483721        \n",
       "3  130.509036       162.585843        \n",
       "4   16.691450        46.449814        \n",
       "5    0.000000         0.000000        \n",
       "6    0.000000         0.000000        \n",
       "7    1.273759         3.544681        \n",
       "8   49.170940       106.794872        \n",
       "9  119.647059         0.000000        \n",
       "10  80.312088       104.353846        \n",
       "11  76.354489        99.031734        \n",
       "12 103.396579        97.161742        \n",
       "13  99.138015        90.762712        \n",
       "14 127.801527        38.152672        \n",
       "15  66.800000         0.000000        \n",
       "16   2.211921         0.000000        "
      ]
     },
     "metadata": {},
     "output_type": "display_data"
    }
   ],
   "source": [
    "# 测算\n",
    "df_ab %>% group_by(app_name, proficient_level_name) %>%\n",
    "    summarise(\n",
    "        users = n(),\n",
    "        ratio_in_group = sum(in_group)/n(),\n",
    "        total_revenue = mean(total_revenue, na.rm = T),\n",
    "        year_revenue_d25 = mean(year_revenue_d25, na.rm = T),\n",
    "        hiarpu_revenue_d25 = mean(hiarpu_revenue_d25, na.rm = T),\n",
    "        .groups = 'drop',\n",
    "    )"
   ]
  },
  {
   "cell_type": "code",
   "execution_count": 129,
   "metadata": {
    "cell_id": 14
   },
   "outputs": [
    {
     "name": "stderr",
     "output_type": "stream",
     "text": [
      "`summarise()` ungrouping output (override with `.groups` argument)\n",
      "\n"
     ]
    },
    {
     "data": {
      "text/html": [
       "<table>\n",
       "<caption>A tibble: 2 × 6</caption>\n",
       "<thead>\n",
       "\t<tr><th scope=col>app_name</th><th scope=col>users</th><th scope=col>ratio_in_group</th><th scope=col>total_revenue</th><th scope=col>year_revenue_d25</th><th scope=col>hiarpu_revenue_d25</th></tr>\n",
       "\t<tr><th scope=col>&lt;chr&gt;</th><th scope=col>&lt;int&gt;</th><th scope=col>&lt;dbl&gt;</th><th scope=col>&lt;dbl&gt;</th><th scope=col>&lt;dbl&gt;</th><th scope=col>&lt;dbl&gt;</th></tr>\n",
       "</thead>\n",
       "<tbody>\n",
       "\t<tr><td>eo</td><td>3121</td><td>0.7382249</td><td>181.6687</td><td>72.02884</td><td>90.63986</td></tr>\n",
       "\t<tr><td>ez</td><td>5390</td><td>0.8571429</td><td>182.4408</td><td>79.37639</td><td>84.04213</td></tr>\n",
       "</tbody>\n",
       "</table>\n"
      ],
      "text/latex": [
       "A tibble: 2 × 6\n",
       "\\begin{tabular}{llllll}\n",
       " app\\_name & users & ratio\\_in\\_group & total\\_revenue & year\\_revenue\\_d25 & hiarpu\\_revenue\\_d25\\\\\n",
       " <chr> & <int> & <dbl> & <dbl> & <dbl> & <dbl>\\\\\n",
       "\\hline\n",
       "\t eo & 3121 & 0.7382249 & 181.6687 & 72.02884 & 90.63986\\\\\n",
       "\t ez & 5390 & 0.8571429 & 182.4408 & 79.37639 & 84.04213\\\\\n",
       "\\end{tabular}\n"
      ],
      "text/markdown": [
       "\n",
       "A tibble: 2 × 6\n",
       "\n",
       "| app_name &lt;chr&gt; | users &lt;int&gt; | ratio_in_group &lt;dbl&gt; | total_revenue &lt;dbl&gt; | year_revenue_d25 &lt;dbl&gt; | hiarpu_revenue_d25 &lt;dbl&gt; |\n",
       "|---|---|---|---|---|---|\n",
       "| eo | 3121 | 0.7382249 | 181.6687 | 72.02884 | 90.63986 |\n",
       "| ez | 5390 | 0.8571429 | 182.4408 | 79.37639 | 84.04213 |\n",
       "\n"
      ],
      "text/plain": [
       "  app_name users ratio_in_group total_revenue year_revenue_d25\n",
       "1 eo       3121  0.7382249      181.6687      72.02884        \n",
       "2 ez       5390  0.8571429      182.4408      79.37639        \n",
       "  hiarpu_revenue_d25\n",
       "1 90.63986          \n",
       "2 84.04213          "
      ]
     },
     "metadata": {},
     "output_type": "display_data"
    }
   ],
   "source": [
    "# 群内 & 群外\n",
    "df_ab %>% group_by(app_name) %>%\n",
    "    summarise(\n",
    "        users = n(),\n",
    "        ratio_in_group = sum(in_group)/n(),\n",
    "        total_revenue = mean(total_revenue, na.rm = T),\n",
    "        year_revenue_d25 = mean(year_revenue_d25, na.rm = T),\n",
    "        hiarpu_revenue_d25 = mean(hiarpu_revenue_d25, na.rm = T),\n",
    "    )"
   ]
  },
  {
   "cell_type": "code",
   "execution_count": 130,
   "metadata": {
    "cell_id": 15
   },
   "outputs": [
    {
     "name": "stderr",
     "output_type": "stream",
     "text": [
      "`summarise()` ungrouping output (override with `.groups` argument)\n",
      "\n"
     ]
    },
    {
     "data": {
      "text/html": [
       "<table>\n",
       "<caption>A tibble: 2 × 6</caption>\n",
       "<thead>\n",
       "\t<tr><th scope=col>app_name</th><th scope=col>users</th><th scope=col>ratio_in_group</th><th scope=col>total_revenue</th><th scope=col>year_revenue_d25</th><th scope=col>hiarpu_revenue_d25</th></tr>\n",
       "\t<tr><th scope=col>&lt;chr&gt;</th><th scope=col>&lt;int&gt;</th><th scope=col>&lt;dbl&gt;</th><th scope=col>&lt;dbl&gt;</th><th scope=col>&lt;dbl&gt;</th><th scope=col>&lt;dbl&gt;</th></tr>\n",
       "</thead>\n",
       "<tbody>\n",
       "\t<tr><td>eo</td><td>2304</td><td>1</td><td>234.6285</td><td>93.93229</td><td>121.69618</td></tr>\n",
       "\t<tr><td>ez</td><td>4620</td><td>1</td><td>208.3286</td><td>91.27517</td><td> 98.03399</td></tr>\n",
       "</tbody>\n",
       "</table>\n"
      ],
      "text/latex": [
       "A tibble: 2 × 6\n",
       "\\begin{tabular}{llllll}\n",
       " app\\_name & users & ratio\\_in\\_group & total\\_revenue & year\\_revenue\\_d25 & hiarpu\\_revenue\\_d25\\\\\n",
       " <chr> & <int> & <dbl> & <dbl> & <dbl> & <dbl>\\\\\n",
       "\\hline\n",
       "\t eo & 2304 & 1 & 234.6285 & 93.93229 & 121.69618\\\\\n",
       "\t ez & 4620 & 1 & 208.3286 & 91.27517 &  98.03399\\\\\n",
       "\\end{tabular}\n"
      ],
      "text/markdown": [
       "\n",
       "A tibble: 2 × 6\n",
       "\n",
       "| app_name &lt;chr&gt; | users &lt;int&gt; | ratio_in_group &lt;dbl&gt; | total_revenue &lt;dbl&gt; | year_revenue_d25 &lt;dbl&gt; | hiarpu_revenue_d25 &lt;dbl&gt; |\n",
       "|---|---|---|---|---|---|\n",
       "| eo | 2304 | 1 | 234.6285 | 93.93229 | 121.69618 |\n",
       "| ez | 4620 | 1 | 208.3286 | 91.27517 |  98.03399 |\n",
       "\n"
      ],
      "text/plain": [
       "  app_name users ratio_in_group total_revenue year_revenue_d25\n",
       "1 eo       2304  1              234.6285      93.93229        \n",
       "2 ez       4620  1              208.3286      91.27517        \n",
       "  hiarpu_revenue_d25\n",
       "1 121.69618         \n",
       "2  98.03399         "
      ]
     },
     "metadata": {},
     "output_type": "display_data"
    }
   ],
   "source": [
    "# 群内\n",
    "df_ab %>% filter(in_group == 1) %>%\n",
    "    group_by(app_name) %>%\n",
    "    summarise(\n",
    "        users = n(),\n",
    "        ratio_in_group = sum(in_group)/n(),\n",
    "        total_revenue = mean(total_revenue, na.rm = T),\n",
    "        year_revenue_d25 = mean(year_revenue_d25, na.rm = T),\n",
    "        hiarpu_revenue_d25 = mean(hiarpu_revenue_d25, na.rm = T),\n",
    "    )"
   ]
  },
  {
   "cell_type": "code",
   "execution_count": 135,
   "metadata": {
    "cell_id": 16
   },
   "outputs": [
    {
     "data": {
      "text/plain": [
       "\n",
       "\tWelch Two Sample t-test\n",
       "\n",
       "data:  df_ab %>% filter(app_name == \"ez\") %>% .$hiarpu_revenue_d25 and df_ab %>% filter(app_name == \"eo\") %>% .$hiarpu_revenue_d25\n",
       "t = -0.63532, df = 6320.8, p-value = 0.5252\n",
       "alternative hypothesis: true difference in means is not equal to 0\n",
       "95 percent confidence interval:\n",
       " -26.95574  13.76028\n",
       "sample estimates:\n",
       "mean of x mean of y \n",
       " 84.04213  90.63986 \n"
      ]
     },
     "metadata": {},
     "output_type": "display_data"
    }
   ],
   "source": [
    "t.test(\n",
    "    x = df_ab %>% filter(app_name == 'ez') %>% .$hiarpu_revenue_d25, \n",
    "    y = df_ab %>% filter(app_name == 'eo') %>% .$hiarpu_revenue_d25, \n",
    "    alternative = \"two.sided\",\n",
    ")"
   ]
  },
  {
   "cell_type": "code",
   "execution_count": 136,
   "metadata": {
    "cell_id": 17
   },
   "outputs": [
    {
     "data": {
      "text/plain": [
       "\n",
       "\tWelch Two Sample t-test\n",
       "\n",
       "data:  df_ab %>% filter(app_name == \"ez\", in_group == 1) %>% .$hiarpu_revenue_d25 and df_ab %>% filter(app_name == \"eo\", in_group == 1) %>% .$hiarpu_revenue_d25\n",
       "t = -1.7788, df = 4204.1, p-value = 0.07534\n",
       "alternative hypothesis: true difference in means is not equal to 0\n",
       "95 percent confidence interval:\n",
       " -49.741256   2.416875\n",
       "sample estimates:\n",
       "mean of x mean of y \n",
       " 98.03399 121.69618 \n"
      ]
     },
     "metadata": {},
     "output_type": "display_data"
    }
   ],
   "source": [
    "t.test(\n",
    "    x = df_ab %>% filter(app_name == 'ez', in_group == 1) %>% .$hiarpu_revenue_d25, \n",
    "    y = df_ab %>% filter(app_name == 'eo', in_group == 1) %>% .$hiarpu_revenue_d25, \n",
    "    alternative = \"two.sided\",\n",
    ")"
   ]
  },
  {
   "cell_type": "code",
   "execution_count": 138,
   "metadata": {
    "cell_id": 18
   },
   "outputs": [
    {
     "name": "stderr",
     "output_type": "stream",
     "text": [
      "`summarise()` regrouping output by 'activation_date' (override with `.groups` argument)\n",
      "\n",
      "./plot_d25_rev_per_new_user_eo_vs_ez.png\n",
      "\n"
     ]
    },
    {
     "data": {
      "text/html": [
       "<strong>png:</strong> 2"
      ],
      "text/latex": [
       "\\textbf{png:} 2"
      ],
      "text/markdown": [
       "**png:** 2"
      ],
      "text/plain": [
       "png \n",
       "  2 "
      ]
     },
     "metadata": {},
     "output_type": "display_data"
    }
   ],
   "source": [
    "plot_d25_rev_per_new_user_eo_vs_ez = df_ab %>% \n",
    "    group_by(activation_date,app_name) %>%\n",
    "    summarise(\n",
    "        users = n(),\n",
    "        ratio_in_group = sum(in_group)/n(),\n",
    "        total_revenue = mean(total_revenue, na.rm = T),\n",
    "        year_revenue_d25 = mean(year_revenue_d25, na.rm = T),\n",
    "        hiarpu_revenue_d25 = mean(hiarpu_revenue_d25, na.rm = T),\n",
    "    ) %>% ggplot(aes(x = activation_date, y = total_revenue, color = app_name)) +\n",
    "    geom_line() +\n",
    "    labs(title = 'D25 revenue per group user EO vs. EZ', subtitle = '20200901~0917', y = '')\n",
    "\n",
    "save_png(plot_d25_rev_per_new_user_eo_vs_ez)"
   ]
  },
  {
   "cell_type": "code",
   "execution_count": 137,
   "metadata": {
    "cell_id": 19
   },
   "outputs": [
    {
     "name": "stderr",
     "output_type": "stream",
     "text": [
      "`summarise()` regrouping output by 'activation_date' (override with `.groups` argument)\n",
      "\n",
      "./plot_d25_rev_per_group_user_eo_vs_ez.png\n",
      "\n"
     ]
    },
    {
     "data": {
      "text/html": [
       "<strong>png:</strong> 2"
      ],
      "text/latex": [
       "\\textbf{png:} 2"
      ],
      "text/markdown": [
       "**png:** 2"
      ],
      "text/plain": [
       "png \n",
       "  2 "
      ]
     },
     "metadata": {},
     "output_type": "display_data"
    }
   ],
   "source": [
    "plot_d25_rev_per_group_user_eo_vs_ez = df_ab %>% \n",
    "    filter(in_group == 1) %>%\n",
    "    group_by(activation_date,app_name) %>%\n",
    "    summarise(\n",
    "        users = n(),\n",
    "        ratio_in_group = sum(in_group)/n(),\n",
    "        total_revenue = mean(total_revenue, na.rm = T),\n",
    "        year_revenue_d25 = mean(year_revenue_d25, na.rm = T),\n",
    "        hiarpu_revenue_d25 = mean(hiarpu_revenue_d25, na.rm = T),\n",
    "    ) %>% ggplot(aes(x = activation_date, y = total_revenue, color = app_name)) +\n",
    "    geom_line() +\n",
    "    labs(title = 'D25 revenue per group user EO vs. EZ', subtitle = '20200901~0917', y = '')\n",
    "\n",
    "save_png(plot_d25_rev_per_group_user_eo_vs_ez)"
   ]
  },
  {
   "cell_type": "markdown",
   "metadata": {
    "cell_id": 20
   },
   "source": [
    "直投 ROI 置信区间"
   ]
  },
  {
   "cell_type": "code",
   "execution_count": 77,
   "metadata": {
    "cell_id": 21
   },
   "outputs": [],
   "source": [
    "roi_generator = function(size, reps=1000) {\n",
    "    roi = vector()\n",
    "    for (i in 1:reps) {\n",
    "        # 体验课价格\n",
    "        price_trial = 1\n",
    "        # 转化价格分布，0 表示不卖\n",
    "        price_vip = c(0, 720)\n",
    "        # 转化概率分布 sum = 1\n",
    "        conversion_vip = c(.928, .072)\n",
    "        # 目标 CPA\n",
    "        cpa_mean = 85\n",
    "        # !!! 假设的 CPA 标准差，代表 CPA 的稳定性\n",
    "        cpa_sd = 0\n",
    "        # price and cost for each user\n",
    "        price_vector = price_trial + sample(x = price_vip, prob = conversion_vip, size = size, replace = T)\n",
    "        cost_vector = rnorm(n = size, mean = cpa_mean, sd = cpa_sd)      \n",
    "        \n",
    "        roi = c(roi, sum(price_vector)/sum(cost_vector))\n",
    "    }\n",
    "    roi\n",
    "}"
   ]
  },
  {
   "cell_type": "code",
   "execution_count": 78,
   "metadata": {
    "cell_id": 22
   },
   "outputs": [
    {
     "name": "stdout",
     "output_type": "stream",
     "text": [
      "累计新增:  1000 \n",
      "D8 ROI 置信区间:  0.5115294 0.7402353 \n",
      "累计新增:  2000 \n",
      "D8 ROI 置信区间:  0.5369412 0.7065647 \n",
      "累计新增:  3000 \n",
      "D8 ROI 置信区间:  0.5567059 0.6922353 \n",
      "累计新增:  4000 \n",
      "D8 ROI 置信区间:  0.5665882 0.6809412 \n",
      "累计新增:  5000 \n",
      "D8 ROI 置信区间:  0.5741271 0.6708612 \n",
      "累计新增:  6000 \n",
      "D8 ROI 置信区间:  0.5736471 0.6668235 \n",
      "累计新增:  7000 \n",
      "D8 ROI 置信区间:  0.5805042 0.6652101 \n",
      "累计新增:  8000 \n",
      "D8 ROI 置信区间:  0.5824706 0.6597647 \n",
      "累计新增:  9000 \n",
      "D8 ROI 置信区间:  0.584 0.6574588 \n",
      "累计新增:  10000 \n",
      "D8 ROI 置信区间:  0.5860706 0.6572235 \n"
     ]
    }
   ],
   "source": [
    "for (s in seq(from = 1000, to = 10000, by = 1000)) {\n",
    "    qs = quantile(x = roi_generator(s), probs = c(.05, .95))\n",
    "    cat('累计新增: ', s, '\\n')\n",
    "    cat('D8 ROI 置信区间: ', qs, '\\n')\n",
    "}"
   ]
  },
  {
   "cell_type": "markdown",
   "metadata": {
    "cell_id": 23
   },
   "source": [
    "## 转化率的置信区间\n",
    "\n",
    "$\\text{var}(x_i) = p(1-p)$\n",
    "\n",
    "$X = \\frac{1}{N} \\sum_i x_i$\n",
    "\n",
    "$\\text{sd}(X) = \\frac{p(1-p)}{\\sqrt{N}}$\n",
    "\n",
    "通过置信度，按标准正态分布选取分位数，乘以 $\\text{sd}(X)$ 作为置信区间宽度。"
   ]
  },
  {
   "cell_type": "code",
   "execution_count": 5,
   "metadata": {
    "cell_id": 24
   },
   "outputs": [
    {
     "data": {
      "text/html": [
       "0.00720074010643051"
      ],
      "text/latex": [
       "0.00720074010643051"
      ],
      "text/markdown": [
       "0.00720074010643051"
      ],
      "text/plain": [
       "[1] 0.00720074"
      ]
     },
     "metadata": {},
     "output_type": "display_data"
    }
   ],
   "source": [
    "p = 0.09 # 基准群内转化率\n",
    "N = 14000 * .10 # D0 入群人数\n",
    "conf = 0.9 # 置信度\n",
    "\n",
    "qnorm(1 - (1 - conf) / 2) * p * (1 - p) / sqrt(N) * 2"
   ]
  },
  {
   "cell_type": "code",
   "execution_count": 23,
   "metadata": {
    "cell_id": 25
   },
   "outputs": [
    {
     "data": {
      "text/html": [
       "0.00890303141529341"
      ],
      "text/latex": [
       "0.00890303141529341"
      ],
      "text/markdown": [
       "0.00890303141529341"
      ],
      "text/plain": [
       "[1] 0.008903031"
      ]
     },
     "metadata": {},
     "output_type": "display_data"
    }
   ],
   "source": [
    "p = 0.75 # 基准群内转化率\n",
    "N = 1200 # D0 入群人数\n",
    "conf = 0.9 # 置信度\n",
    "\n",
    "qnorm(1 - (1 - conf) / 2) * p * (1 - p) / sqrt(N)"
   ]
  },
  {
   "cell_type": "code",
   "execution_count": 27,
   "metadata": {
    "cell_id": 26
   },
   "outputs": [
    {
     "data": {
      "text/html": [
       "0.114891252930761"
      ],
      "text/latex": [
       "0.114891252930761"
      ],
      "text/markdown": [
       "0.114891252930761"
      ],
      "text/plain": [
       "[1] 0.1148913"
      ]
     },
     "metadata": {},
     "output_type": "display_data"
    }
   ],
   "source": [
    "sqrt((1 - 0.1)^2*0.4 + (0 - 0.1)^2*0.3 + (0 - 0.1)^2*0.3)/sqrt(100)*2"
   ]
  },
  {
   "cell_type": "markdown",
   "metadata": {
    "cell_id": 27
   },
   "source": [
    "## prop test"
   ]
  },
  {
   "cell_type": "code",
   "execution_count": 2,
   "metadata": {
    "cell_id": 28
   },
   "outputs": [
    {
     "data": {
      "text/plain": [
       "\n",
       "\t2-sample test for equality of proportions with continuity correction\n",
       "\n",
       "data:  c(171, 243) out of c(1988, 2537)\n",
       "X-squared = 1.1642, df = 1, p-value = 0.2806\n",
       "alternative hypothesis: two.sided\n",
       "95 percent confidence interval:\n",
       " -0.027039121  0.007506474\n",
       "sample estimates:\n",
       "    prop 1     prop 2 \n",
       "0.08601610 0.09578242 \n"
      ]
     },
     "metadata": {},
     "output_type": "display_data"
    }
   ],
   "source": [
    "\n",
    "prop.test(n = c(1988, 2537), x = c(171, 243))"
   ]
  },
  {
   "cell_type": "markdown",
   "metadata": {
    "cell_id": 29
   },
   "source": [
    "## Bernoulli 个体聚合后的检验样本要求"
   ]
  },
  {
   "cell_type": "code",
   "execution_count": 36,
   "metadata": {
    "cell_id": 30
   },
   "outputs": [
    {
     "data": {
      "text/html": [
       "1371"
      ],
      "text/latex": [
       "1371"
      ],
      "text/markdown": [
       "1371"
      ],
      "text/plain": [
       "[1] 1371"
      ]
     },
     "metadata": {},
     "output_type": "display_data"
    }
   ],
   "source": [
    "# 按 bernoulli 个体视角，采用卡方检验\n",
    "p = 0.4\n",
    "abs_mde = 0.04\n",
    "\n",
    "prop_test_res = power.prop.test(p1 = p, p2 = p + abs_mde, sig.level = 0.1, power = 0.8, alternative = 'one.sided')\n",
    "floor(prop_test_res$n)"
   ]
  },
  {
   "cell_type": "code",
   "execution_count": 34,
   "metadata": {
    "cell_id": 31
   },
   "outputs": [
    {
     "data": {
      "text/html": [
       "1396"
      ],
      "text/latex": [
       "1396"
      ],
      "text/markdown": [
       "1396"
      ],
      "text/plain": [
       "[1] 1396"
      ]
     },
     "metadata": {},
     "output_type": "display_data"
    }
   ],
   "source": [
    "group_size = 100\n",
    "p_std = (p * (1-p) / group_size)^0.5\n",
    "\n",
    "t_test_res = power.t.test(delta = abs_mde / p_std, sig.level = 0.1, power = 0.8, alternative = 'one.sided')\n",
    "floor(t_test_res$n * group_size)"
   ]
  },
  {
   "cell_type": "code",
   "execution_count": 32,
   "metadata": {
    "cell_id": 32
   },
   "outputs": [
    {
     "name": "stdout",
     "output_type": "stream",
     "text": [
      "List of 8\n",
      " $ n          : num 14\n",
      " $ delta      : num 0.816\n",
      " $ sd         : num 1\n",
      " $ sig.level  : num 0.1\n",
      " $ power      : num 0.8\n",
      " $ alternative: chr \"one.sided\"\n",
      " $ note       : chr \"n is number in *each* group\"\n",
      " $ method     : chr \"Two-sample t test power calculation\"\n",
      " - attr(*, \"class\")= chr \"power.htest\"\n"
     ]
    }
   ],
   "source": []
  },
  {
   "cell_type": "code",
   "execution_count": 41,
   "metadata": {
    "cell_id": 33
   },
   "outputs": [
    {
     "data": {
      "text/plain": [
       "\n",
       "     Two-sample comparison of proportions power calculation \n",
       "\n",
       "              n = 2602.048\n",
       "             p1 = 0.65\n",
       "             p2 = 0.6825\n",
       "      sig.level = 0.05\n",
       "          power = 0.8\n",
       "    alternative = one.sided\n",
       "\n",
       "NOTE: n is number in *each* group\n"
      ]
     },
     "metadata": {},
     "output_type": "display_data"
    }
   ],
   "source": [
    "power.prop.test(p1 = 0.65, p2 = 0.65 * 1.05, sig.level = .05, power = 0.8, alternative = \"one.sided\")"
   ]
  },
  {
   "cell_type": "code",
   "execution_count": null,
   "metadata": {
    "cell_id": 34
   },
   "outputs": [],
   "source": []
  }
 ],
 "metadata": {
  "kernelspec": {
   "display_name": "R",
   "language": "R",
   "name": "ir"
  },
  "language_info": {
   "codemirror_mode": "r",
   "file_extension": ".r",
   "mimetype": "text/x-r-source",
   "name": "R",
   "pygments_lexer": "r",
   "version": "4.0.3"
  },
  "max_cell_id": 37
 },
 "nbformat": 4,
 "nbformat_minor": 4
}
